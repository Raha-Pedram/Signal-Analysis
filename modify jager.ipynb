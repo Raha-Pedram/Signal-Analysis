{
 "cells": [
  {
   "cell_type": "code",
   "execution_count": null,
   "id": "0ab348b0-c7bf-496d-86db-7f3a9321bd55",
   "metadata": {},
   "outputs": [],
   "source": [
    "def jager(E1,E2,alfa1,alfa2):\n",
    "\n",
    "    E1E2=np.zeros(len(E1))\n",
    "\n",
    "    theta1=1-alfa1\n",
    "    theta2=1-alfa2\n",
    "    E22=np.array(E2)*alfa2\n",
    "    E11=np.array(E1)*alfa1\n",
    "    E222=np.append(E22,[theta2])\n",
    "    E222=E222[None,:]\n",
    "    E111=np.append(E11,[theta1])\n",
    "    E111=E111[:,None]\n",
    "\n",
    "    E1E2=np.matmul(E111,E222).T\n",
    "    a=np.sum(np.diag(E1E2[0:len(E1)][0:len(E1)]))\n",
    "    b=np.sum(np.sum(E1E2[0:len(E1E2)-1,0:len(E1E2)-1]))\n",
    "    Qphi=b-a\n",
    "    nf=1-Qphi\n",
    "    Sum_theta=np.diag(E1E2[0:len(E1),len(E1)]+E1E2[len(E1),0:len(E1)].T)\n",
    "    newE1E2=E1E2[0:len(E1),0:len(E1)]\n",
    "    result1=newE1E2+Sum_theta\n",
    "    result=result1/nf\n",
    "    fr=np.diag(result).T\n",
    "\n",
    "    return fr\n",
    "hhh=[]\n",
    "for i in range(len(ylabeltest)):\n",
    "    alfaknn=alfaknnall[int(predictknn[i])+1]\n",
    "    alfasvm=alfasvmall[int(predictsvm[i])+1]\n",
    "    alfann=alfannall[int(predictrf[i])+1]\n",
    "    alfadt=alfadtall[int(predictdt[i])+1]\n",
    "    hhh+=[jager(jager(probknn[i],probsvm[i],alfaknn,alfasvm),jager(probdt[i],probnn[i],alfadt,alfann),np.sum(jager(probknn[i],probsvm[i],alfaknn,alfasvm)),np.sum(jager(probdt[i],probnn[i],alfadt,alfann)))]\n",
    "dd=(np.argmax(hhh,axis=1)-1)\n",
    "fr=np.sum((dd==ylabeltest)*1)\n",
    "where1=np.where((dd==ylabeltest)==0)\n",
    "print(where1,'finall acc:',(fr)/len(ylabeltest))"
   ]
  }
 ],
 "metadata": {
  "kernelspec": {
   "display_name": "Python 3 (ipykernel)",
   "language": "python",
   "name": "python3"
  },
  "language_info": {
   "codemirror_mode": {
    "name": "ipython",
    "version": 3
   },
   "file_extension": ".py",
   "mimetype": "text/x-python",
   "name": "python",
   "nbconvert_exporter": "python",
   "pygments_lexer": "ipython3",
   "version": "3.9.13"
  }
 },
 "nbformat": 4,
 "nbformat_minor": 5
}
