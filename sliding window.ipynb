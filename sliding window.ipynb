{
 "cells": [
  {
   "cell_type": "code",
   "execution_count": null,
   "id": "360ba74c-6bad-4844-af31-54d3e3f3e4dd",
   "metadata": {},
   "outputs": [],
   "source": [
    "# استفاده از ویندواینگ برای خارج کردن تذایل ها متفاوت\n",
    "\n",
    "\n",
    "\n",
    "def sliding_window(data, window_size, stride, training_size):\n",
    "    \"\"\"\n",
    "    Applies a sliding window to the given data with the specified window size\n",
    "    and stride length. Padding is added at the beginning and end of the data to\n",
    "    ensure all samples are included in windows.\n",
    "    \"\"\"\n",
    "    num_padding = window_size - stride\n",
    "    data_padded = np.pad(data, ((num_padding, num_padding), (0, 0)), 'constant')\n",
    "    window_data = []\n",
    "    for i in range(0, len(data_padded) - window_size + 1, stride):\n",
    "        window = data_padded[i:i+window_size, :]\n",
    "        window_data.append(window)\n",
    "    window_data = np.array(window_data)\n",
    "    window_data = window_data[:training_size, :, :]\n",
    "    window_data = np.transpose(window_data, (0, 2, 1))\n",
    "    return window_data\n",
    "windowsize=3000\n",
    "stride=1500\n",
    "sigtI10hz=sliding_window(sigI10,windowsize,stride,40000)\n",
    "sigtI30hz=sliding_window(sigI30,windowsize,stride,40000)\n",
    "sigtII10hz=sliding_window(sigII10,windowsize,stride,40000)\n",
    "sigtII30hz=sliding_window(sigII30,windowsize,stride,40000)\n",
    "del sigI10,sigI30,sigII10,sigII30\n",
    "sigtIII30hz=sliding_window(sigIII30,windowsize,stride,40000)\n",
    "sigtIII10hz=sliding_window(sigIII10,windowsize,stride,40000)\n",
    "sigtIV30hz=sliding_window(sigIV30,windowsize,stride,40000)\n",
    "sigtIV10hz=sliding_window(sigIV10,windowsize,stride,40000)\n",
    "del sigIII30,sigIII10,sigIV30,sigIV10\n",
    "sigtV30hz=sliding_window(sigV30,windowsize,stride,40000)\n",
    "sigtV10hz=sliding_window(sigV10,windowsize,stride,40000)"
   ]
  }
 ],
 "metadata": {
  "kernelspec": {
   "display_name": "Python 3 (ipykernel)",
   "language": "python",
   "name": "python3"
  },
  "language_info": {
   "codemirror_mode": {
    "name": "ipython",
    "version": 3
   },
   "file_extension": ".py",
   "mimetype": "text/x-python",
   "name": "python",
   "nbconvert_exporter": "python",
   "pygments_lexer": "ipython3",
   "version": "3.9.13"
  }
 },
 "nbformat": 4,
 "nbformat_minor": 5
}
