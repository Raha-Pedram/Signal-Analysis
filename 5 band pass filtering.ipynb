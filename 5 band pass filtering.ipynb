{
 "cells": [
  {
   "cell_type": "code",
   "execution_count": null,
   "id": "9ee47f99-ff5c-471e-a098-ca56c666976b",
   "metadata": {},
   "outputs": [],
   "source": [
    "# فیلتر کردن بر اساس سیگنال های درخواستی برای یک دسته دیتا\n",
    "\n",
    "freq=[[0.1,500],[500,1000],[1000,2000],[2000,4999]]\n",
    "cntfilterI10=np.zeros((np.shape(sigtIII30hz)[0], np.shape(sigtIII30hz)[1], 5, np.shape(sigtIII30hz)[2]))\n",
    "cntfilterI30=np.zeros((np.shape(sigtIII30hz)[0], np.shape(sigtIII30hz)[1], 5, np.shape(sigtIII30hz)[2]))\n",
    "cntfilterII10=np.zeros((np.shape(sigtIII30hz)[0], np.shape(sigtIII30hz)[1], 5, np.shape(sigtIII30hz)[2]))\n",
    "cntfilterII30=np.zeros((np.shape(sigtIII30hz)[0], np.shape(sigtIII30hz)[1], 5, np.shape(sigtIII30hz)[2]))\n",
    "cntfilterIII10=np.zeros((np.shape(sigtIII30hz)[0], np.shape(sigtIII30hz)[1], 5, np.shape(sigtIII30hz)[2]))\n",
    "cntfilterIII30=np.zeros((np.shape(sigtIII30hz)[0], np.shape(sigtIII30hz)[1], 5, np.shape(sigtIII30hz)[2]))\n",
    "cntfilterIV30=np.zeros((np.shape(sigtIII30hz)[0], np.shape(sigtIII30hz)[1], 5, np.shape(sigtIII30hz)[2]))\n",
    "cntfilterIV10=np.zeros((np.shape(sigtIII30hz)[0], np.shape(sigtIII30hz)[1], 5, np.shape(sigtIII30hz)[2]))\n",
    "cntfilterV30=np.zeros((np.shape(sigtIII30hz)[0], np.shape(sigtIII30hz)[1], 5, np.shape(sigtIII30hz)[2]))\n",
    "cntfilterV10=np.zeros((np.shape(sigtIII30hz)[0], np.shape(sigtIII30hz)[1], 5, np.shape(sigtIII30hz)[2]))\n",
    "# cntfilterVI30=np.zeros((np.shape(sigtIII30hz)[0], np.shape(sigtIII30hz)[1], 5, np.shape(sigtIII30hz)[2]))\n",
    "# cntfilterVI10=np.zeros((np.shape(sigtIII30hz)[0], np.shape(sigtIII30hz)[1], 5, np.shape(sigtIII30hz)[2]))\n",
    "\n",
    "for i in range(len(freq)):\n",
    "    fh=freq[i][0]\n",
    "    fl=freq[i][1]\n",
    "    fs = 10000\n",
    "    type='bandpass'\n",
    "    wn = [fh*2/fs, fl*2/fs]\n",
    "    [b,a]=signal.butter(3,wn,type)\n",
    "    \n",
    "    # filter the last dimension of each signal\n",
    "    sigfI10hz=np.apply_along_axis(lambda x: signal.filtfilt(b, a, x), axis=-1, arr=sigtI10hz)\n",
    "    sigfI30hz=np.apply_along_axis(lambda x: signal.filtfilt(b, a, x), axis=-1, arr=sigtI30hz)\n",
    "    sigfII10hz=np.apply_along_axis(lambda x: signal.filtfilt(b, a, x), axis=-1, arr=sigtII10hz)\n",
    "    sigfII30hz=np.apply_along_axis(lambda x: signal.filtfilt(b, a, x), axis=-1, arr=sigtII30hz)\n",
    "    sigfIII10hz=np.apply_along_axis(lambda x: signal.filtfilt(b, a, x), axis=-1, arr=sigtIII10hz)\n",
    "    sigfIII30hz=np.apply_along_axis(lambda x: signal.filtfilt(b, a, x), axis=-1, arr=sigtIII30hz)\n",
    "    sigfIV10hz=np.apply_along_axis(lambda x: signal.filtfilt(b, a, x), axis=-1, arr=sigtIV10hz)\n",
    "    sigfIV30hz=np.apply_along_axis(lambda x: signal.filtfilt(b, a, x), axis=-1, arr=sigtIV30hz)\n",
    "    sigfV10hz=np.apply_along_axis(lambda x: signal.filtfilt(b, a, x), axis=-1, arr=sigtV10hz)\n",
    "    sigfV30hz=np.apply_along_axis(lambda x: signal.filtfilt(b, a, x), axis=-1, arr=sigtV30hz)\n",
    "    # sigfVI10hz=np.apply_along_axis(lambda x: signal.filtfilt(b, a, x), axis=-1, arr=sigtVI10hz)\n",
    "    # sigfVI30hz=np.apply_along_axis(lambda x: signal.filtfilt(b, a, x), axis=-1, arr=sigtVI30hz)\n",
    "    \n",
    "    cntfilterI10[:,:,i,:] = sigfI10hz\n",
    "    cntfilterI30[:,:,i,:] = sigfI30hz\n",
    "    del sigfI10hz,sigfI30hz\n",
    "    cntfilterII10[:,:,i,:] = sigfII10hz\n",
    "    cntfilterII30[:,:,i,:] = sigfII30hz\n",
    "    del sigfII10hz,sigfII30hz\n",
    "    cntfilterIII10[:,:,i,:] = sigfIII10hz\n",
    "    cntfilterIII30[:,:,i,:] = sigfIII30hz\n",
    "    del sigfIII10hz,sigfIII30hz\n",
    "    cntfilterIV10[:,:,i,:] = sigfIV10hz\n",
    "    cntfilterIV30[:,:,i,:] = sigfIV30hz\n",
    "    del sigfIV10hz,sigfIV30hz\n",
    "    cntfilterV10[:,:,i,:] = sigfV10hz\n",
    "    cntfilterV30[:,:,i,:] = sigfV30hz\n",
    "    del sigfV10hz,sigfV30hz"
   ]
  }
 ],
 "metadata": {
  "kernelspec": {
   "display_name": "Python 3 (ipykernel)",
   "language": "python",
   "name": "python3"
  },
  "language_info": {
   "codemirror_mode": {
    "name": "ipython",
    "version": 3
   },
   "file_extension": ".py",
   "mimetype": "text/x-python",
   "name": "python",
   "nbconvert_exporter": "python",
   "pygments_lexer": "ipython3",
   "version": "3.9.13"
  }
 },
 "nbformat": 4,
 "nbformat_minor": 5
}
