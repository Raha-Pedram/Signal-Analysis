{
 "cells": [
  {
   "cell_type": "code",
   "execution_count": null,
   "id": "64f66c2e-9e9d-467e-b6f1-6b5897db7b6c",
   "metadata": {},
   "outputs": [],
   "source": [
    "def normalize_last_dim(data, epsilon=0.01):\n",
    "    # compute mean and standard deviation along the last dimension of the data\n",
    "    last_dim_mean = np.mean(data, axis=-1, keepdims=True)\n",
    "    last_dim_std = np.std(data, axis=-1, keepdims=True)\n",
    "\n",
    "    # normalize the last dimension using the mean and standard deviation\n",
    "    normalized_data = (data- last_dim_mean) /last_dim_std+epsilon\n",
    "\n",
    "#     # stack the normalized values with the original values along the last dimension\n",
    "    # normalized_data = np.concatenate([data[..., :-1], normalized_data[..., np.newaxis]], axis=-1)\n",
    "\n",
    "    return normalized_data"
   ]
  }
 ],
 "metadata": {
  "kernelspec": {
   "display_name": "Python 3 (ipykernel)",
   "language": "python",
   "name": "python3"
  },
  "language_info": {
   "codemirror_mode": {
    "name": "ipython",
    "version": 3
   },
   "file_extension": ".py",
   "mimetype": "text/x-python",
   "name": "python",
   "nbconvert_exporter": "python",
   "pygments_lexer": "ipython3",
   "version": "3.9.13"
  }
 },
 "nbformat": 4,
 "nbformat_minor": 5
}
